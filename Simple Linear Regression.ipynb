{
 "cells": [
  {
   "cell_type": "markdown",
   "id": "b0553e77",
   "metadata": {},
   "source": [
    "# Simple Linear Regression(SLR)"
   ]
  },
  {
   "cell_type": "markdown",
   "id": "01951c3b",
   "metadata": {},
   "source": [
    "Naman is working as a Research Analyst for a Company and wants to write a research based article on what should a startup focus on intial years in order to grow.\n",
    "\n",
    "Naman went to 50 startups and met their founder and asked for data anonymously.\n",
    "\n",
    "How much company spent in Research and Development(RND),Marketing(MKT),Administration(ADMIN),State(STATE) and what was the Profit.\n",
    "\n",
    "So the data collected is 50Startup's.csv file.(https://www.kaggle.com/code/kavita5/linear-regression-50-startup/data)\n",
    "\n",
    "Here I am Predicting Profit using only one predictor(SLR) and based on EDA I have selected RND(As higher the amount,the Profit is High)."
   ]
  },
  {
   "cell_type": "markdown",
   "id": "a31a02a6",
   "metadata": {},
   "source": [
    "Load Data"
   ]
  },
  {
   "cell_type": "code",
   "execution_count": 1,
   "id": "37c79e9a",
   "metadata": {},
   "outputs": [],
   "source": [
    "from warnings import filterwarnings\n",
    "filterwarnings(\"ignore\")\n",
    "import pandas as pd\n",
    "data = pd.read_csv(\"Downloads/50_Startups.csv\")"
   ]
  },
  {
   "cell_type": "markdown",
   "id": "de0a59fc",
   "metadata": {},
   "source": [
    "Read Data"
   ]
  },
  {
   "cell_type": "code",
   "execution_count": 2,
   "id": "3fac9a40",
   "metadata": {},
   "outputs": [
    {
     "data": {
      "text/html": [
       "<div>\n",
       "<style scoped>\n",
       "    .dataframe tbody tr th:only-of-type {\n",
       "        vertical-align: middle;\n",
       "    }\n",
       "\n",
       "    .dataframe tbody tr th {\n",
       "        vertical-align: top;\n",
       "    }\n",
       "\n",
       "    .dataframe thead th {\n",
       "        text-align: right;\n",
       "    }\n",
       "</style>\n",
       "<table border=\"1\" class=\"dataframe\">\n",
       "  <thead>\n",
       "    <tr style=\"text-align: right;\">\n",
       "      <th></th>\n",
       "      <th>R&amp;D Spend</th>\n",
       "      <th>Administration</th>\n",
       "      <th>Marketing Spend</th>\n",
       "      <th>State</th>\n",
       "      <th>Profit</th>\n",
       "    </tr>\n",
       "  </thead>\n",
       "  <tbody>\n",
       "    <tr>\n",
       "      <th>0</th>\n",
       "      <td>165349.20</td>\n",
       "      <td>136897.80</td>\n",
       "      <td>471784.10</td>\n",
       "      <td>New York</td>\n",
       "      <td>192261.83</td>\n",
       "    </tr>\n",
       "    <tr>\n",
       "      <th>1</th>\n",
       "      <td>162597.70</td>\n",
       "      <td>151377.59</td>\n",
       "      <td>443898.53</td>\n",
       "      <td>California</td>\n",
       "      <td>191792.06</td>\n",
       "    </tr>\n",
       "    <tr>\n",
       "      <th>2</th>\n",
       "      <td>153441.51</td>\n",
       "      <td>101145.55</td>\n",
       "      <td>407934.54</td>\n",
       "      <td>Florida</td>\n",
       "      <td>191050.39</td>\n",
       "    </tr>\n",
       "    <tr>\n",
       "      <th>3</th>\n",
       "      <td>144372.41</td>\n",
       "      <td>118671.85</td>\n",
       "      <td>383199.62</td>\n",
       "      <td>New York</td>\n",
       "      <td>182901.99</td>\n",
       "    </tr>\n",
       "    <tr>\n",
       "      <th>4</th>\n",
       "      <td>142107.34</td>\n",
       "      <td>91391.77</td>\n",
       "      <td>366168.42</td>\n",
       "      <td>Florida</td>\n",
       "      <td>166187.94</td>\n",
       "    </tr>\n",
       "  </tbody>\n",
       "</table>\n",
       "</div>"
      ],
      "text/plain": [
       "   R&D Spend  Administration  Marketing Spend       State     Profit\n",
       "0  165349.20       136897.80        471784.10    New York  192261.83\n",
       "1  162597.70       151377.59        443898.53  California  191792.06\n",
       "2  153441.51       101145.55        407934.54     Florida  191050.39\n",
       "3  144372.41       118671.85        383199.62    New York  182901.99\n",
       "4  142107.34        91391.77        366168.42     Florida  166187.94"
      ]
     },
     "execution_count": 2,
     "metadata": {},
     "output_type": "execute_result"
    }
   ],
   "source": [
    "data.head()"
   ]
  },
  {
   "cell_type": "markdown",
   "id": "a4fb6823",
   "metadata": {},
   "source": [
    "Rename Column(Features) Name"
   ]
  },
  {
   "cell_type": "code",
   "execution_count": 3,
   "id": "bf1a5d0a",
   "metadata": {},
   "outputs": [
    {
     "data": {
      "text/plain": [
       "Index(['R&D Spend', 'Administration', 'Marketing Spend', 'State', 'Profit'], dtype='object')"
      ]
     },
     "execution_count": 3,
     "metadata": {},
     "output_type": "execute_result"
    }
   ],
   "source": [
    "data.columns"
   ]
  },
  {
   "cell_type": "code",
   "execution_count": 4,
   "id": "b83362f7",
   "metadata": {},
   "outputs": [],
   "source": [
    "data.columns=['RND', 'ADMIN', 'MKT', 'STATE', 'PROFIT']"
   ]
  },
  {
   "cell_type": "code",
   "execution_count": 5,
   "id": "77a2f443",
   "metadata": {},
   "outputs": [
    {
     "data": {
      "text/html": [
       "<div>\n",
       "<style scoped>\n",
       "    .dataframe tbody tr th:only-of-type {\n",
       "        vertical-align: middle;\n",
       "    }\n",
       "\n",
       "    .dataframe tbody tr th {\n",
       "        vertical-align: top;\n",
       "    }\n",
       "\n",
       "    .dataframe thead th {\n",
       "        text-align: right;\n",
       "    }\n",
       "</style>\n",
       "<table border=\"1\" class=\"dataframe\">\n",
       "  <thead>\n",
       "    <tr style=\"text-align: right;\">\n",
       "      <th></th>\n",
       "      <th>RND</th>\n",
       "      <th>ADMIN</th>\n",
       "      <th>MKT</th>\n",
       "      <th>STATE</th>\n",
       "      <th>PROFIT</th>\n",
       "    </tr>\n",
       "  </thead>\n",
       "  <tbody>\n",
       "    <tr>\n",
       "      <th>0</th>\n",
       "      <td>165349.20</td>\n",
       "      <td>136897.80</td>\n",
       "      <td>471784.10</td>\n",
       "      <td>New York</td>\n",
       "      <td>192261.83</td>\n",
       "    </tr>\n",
       "    <tr>\n",
       "      <th>1</th>\n",
       "      <td>162597.70</td>\n",
       "      <td>151377.59</td>\n",
       "      <td>443898.53</td>\n",
       "      <td>California</td>\n",
       "      <td>191792.06</td>\n",
       "    </tr>\n",
       "    <tr>\n",
       "      <th>2</th>\n",
       "      <td>153441.51</td>\n",
       "      <td>101145.55</td>\n",
       "      <td>407934.54</td>\n",
       "      <td>Florida</td>\n",
       "      <td>191050.39</td>\n",
       "    </tr>\n",
       "    <tr>\n",
       "      <th>3</th>\n",
       "      <td>144372.41</td>\n",
       "      <td>118671.85</td>\n",
       "      <td>383199.62</td>\n",
       "      <td>New York</td>\n",
       "      <td>182901.99</td>\n",
       "    </tr>\n",
       "    <tr>\n",
       "      <th>4</th>\n",
       "      <td>142107.34</td>\n",
       "      <td>91391.77</td>\n",
       "      <td>366168.42</td>\n",
       "      <td>Florida</td>\n",
       "      <td>166187.94</td>\n",
       "    </tr>\n",
       "  </tbody>\n",
       "</table>\n",
       "</div>"
      ],
      "text/plain": [
       "         RND      ADMIN        MKT       STATE     PROFIT\n",
       "0  165349.20  136897.80  471784.10    New York  192261.83\n",
       "1  162597.70  151377.59  443898.53  California  191792.06\n",
       "2  153441.51  101145.55  407934.54     Florida  191050.39\n",
       "3  144372.41  118671.85  383199.62    New York  182901.99\n",
       "4  142107.34   91391.77  366168.42     Florida  166187.94"
      ]
     },
     "execution_count": 5,
     "metadata": {},
     "output_type": "execute_result"
    }
   ],
   "source": [
    "data.head()"
   ]
  },
  {
   "cell_type": "markdown",
   "id": "0cfdd528",
   "metadata": {},
   "source": [
    "Exploratory Data Analysis"
   ]
  },
  {
   "cell_type": "code",
   "execution_count": 6,
   "id": "97b9cce9",
   "metadata": {},
   "outputs": [
    {
     "data": {
      "image/png": "[encoded data removed]",
      "text/plain": [
       "<Figure size 1080x864 with 4 Axes>"
      ]
     },
     "metadata": {
      "needs_background": "light"
     },
     "output_type": "display_data"
    }
   ],
   "source": [
    "import seaborn as sb\n",
    "import matplotlib.pyplot as plt\n",
    "plt.figure(figsize=(15,12))\n",
    "plt.subplot(2,2,1)\n",
    "sb.scatterplot(data.RND,data.PROFIT)\n",
    "plt.subplot(2,2,2)\n",
    "sb.scatterplot(data.ADMIN,data.PROFIT)\n",
    "plt.subplot(2,2,3)\n",
    "sb.scatterplot(data.MKT,data.PROFIT)\n",
    "plt.subplot(2,2,4)\n",
    "sb.boxplot(data.STATE,data.PROFIT)\n",
    "\n",
    "plt.savefig(\"Desktop/Naman_research.jpg\")"
   ]
  },
  {
   "cell_type": "markdown",
   "id": "f51732b5",
   "metadata": {},
   "source": [
    "Through EDA we can concluded that investing amount in Research  can bound to give Profit to company."
   ]
  },
  {
   "cell_type": "code",
   "execution_count": 7,
   "id": "e9fffcde",
   "metadata": {},
   "outputs": [
    {
     "data": {
      "text/html": [
       "<div>\n",
       "<style scoped>\n",
       "    .dataframe tbody tr th:only-of-type {\n",
       "        vertical-align: middle;\n",
       "    }\n",
       "\n",
       "    .dataframe tbody tr th {\n",
       "        vertical-align: top;\n",
       "    }\n",
       "\n",
       "    .dataframe thead th {\n",
       "        text-align: right;\n",
       "    }\n",
       "</style>\n",
       "<table border=\"1\" class=\"dataframe\">\n",
       "  <thead>\n",
       "    <tr style=\"text-align: right;\">\n",
       "      <th></th>\n",
       "      <th>RND</th>\n",
       "      <th>ADMIN</th>\n",
       "      <th>MKT</th>\n",
       "      <th>STATE</th>\n",
       "      <th>PROFIT</th>\n",
       "    </tr>\n",
       "  </thead>\n",
       "  <tbody>\n",
       "    <tr>\n",
       "      <th>0</th>\n",
       "      <td>165349.20</td>\n",
       "      <td>136897.80</td>\n",
       "      <td>471784.10</td>\n",
       "      <td>New York</td>\n",
       "      <td>192261.83</td>\n",
       "    </tr>\n",
       "    <tr>\n",
       "      <th>1</th>\n",
       "      <td>162597.70</td>\n",
       "      <td>151377.59</td>\n",
       "      <td>443898.53</td>\n",
       "      <td>California</td>\n",
       "      <td>191792.06</td>\n",
       "    </tr>\n",
       "    <tr>\n",
       "      <th>2</th>\n",
       "      <td>153441.51</td>\n",
       "      <td>101145.55</td>\n",
       "      <td>407934.54</td>\n",
       "      <td>Florida</td>\n",
       "      <td>191050.39</td>\n",
       "    </tr>\n",
       "    <tr>\n",
       "      <th>3</th>\n",
       "      <td>144372.41</td>\n",
       "      <td>118671.85</td>\n",
       "      <td>383199.62</td>\n",
       "      <td>New York</td>\n",
       "      <td>182901.99</td>\n",
       "    </tr>\n",
       "    <tr>\n",
       "      <th>4</th>\n",
       "      <td>142107.34</td>\n",
       "      <td>91391.77</td>\n",
       "      <td>366168.42</td>\n",
       "      <td>Florida</td>\n",
       "      <td>166187.94</td>\n",
       "    </tr>\n",
       "  </tbody>\n",
       "</table>\n",
       "</div>"
      ],
      "text/plain": [
       "         RND      ADMIN        MKT       STATE     PROFIT\n",
       "0  165349.20  136897.80  471784.10    New York  192261.83\n",
       "1  162597.70  151377.59  443898.53  California  191792.06\n",
       "2  153441.51  101145.55  407934.54     Florida  191050.39\n",
       "3  144372.41  118671.85  383199.62    New York  182901.99\n",
       "4  142107.34   91391.77  366168.42     Florida  166187.94"
      ]
     },
     "execution_count": 7,
     "metadata": {},
     "output_type": "execute_result"
    }
   ],
   "source": [
    "data.head()"
   ]
  },
  {
   "cell_type": "markdown",
   "id": "e31c0002",
   "metadata": {},
   "source": [
    "Check for Null or Missing values"
   ]
  },
  {
   "cell_type": "code",
   "execution_count": 8,
   "id": "e577a5bf",
   "metadata": {},
   "outputs": [
    {
     "data": {
      "text/plain": [
       "RND       0\n",
       "ADMIN     0\n",
       "MKT       0\n",
       "STATE     0\n",
       "PROFIT    0\n",
       "dtype: int64"
      ]
     },
     "execution_count": 8,
     "metadata": {},
     "output_type": "execute_result"
    }
   ],
   "source": [
    "data.isna().sum()"
   ]
  },
  {
   "cell_type": "markdown",
   "id": "d47a9155",
   "metadata": {},
   "source": [
    "There is no any Null values"
   ]
  },
  {
   "cell_type": "markdown",
   "id": "a9125a47",
   "metadata": {},
   "source": [
    "Check Correlation"
   ]
  },
  {
   "cell_type": "code",
   "execution_count": 9,
   "id": "7fe66f9e",
   "metadata": {},
   "outputs": [
    {
     "data": {
      "text/html": [
       "<div>\n",
       "<style scoped>\n",
       "    .dataframe tbody tr th:only-of-type {\n",
       "        vertical-align: middle;\n",
       "    }\n",
       "\n",
       "    .dataframe tbody tr th {\n",
       "        vertical-align: top;\n",
       "    }\n",
       "\n",
       "    .dataframe thead th {\n",
       "        text-align: right;\n",
       "    }\n",
       "</style>\n",
       "<table border=\"1\" class=\"dataframe\">\n",
       "  <thead>\n",
       "    <tr style=\"text-align: right;\">\n",
       "      <th></th>\n",
       "      <th>RND</th>\n",
       "      <th>ADMIN</th>\n",
       "      <th>MKT</th>\n",
       "      <th>PROFIT</th>\n",
       "    </tr>\n",
       "  </thead>\n",
       "  <tbody>\n",
       "    <tr>\n",
       "      <th>RND</th>\n",
       "      <td>1.000000</td>\n",
       "      <td>0.241955</td>\n",
       "      <td>0.724248</td>\n",
       "      <td>0.972900</td>\n",
       "    </tr>\n",
       "    <tr>\n",
       "      <th>ADMIN</th>\n",
       "      <td>0.241955</td>\n",
       "      <td>1.000000</td>\n",
       "      <td>-0.032154</td>\n",
       "      <td>0.200717</td>\n",
       "    </tr>\n",
       "    <tr>\n",
       "      <th>MKT</th>\n",
       "      <td>0.724248</td>\n",
       "      <td>-0.032154</td>\n",
       "      <td>1.000000</td>\n",
       "      <td>0.747766</td>\n",
       "    </tr>\n",
       "    <tr>\n",
       "      <th>PROFIT</th>\n",
       "      <td>0.972900</td>\n",
       "      <td>0.200717</td>\n",
       "      <td>0.747766</td>\n",
       "      <td>1.000000</td>\n",
       "    </tr>\n",
       "  </tbody>\n",
       "</table>\n",
       "</div>"
      ],
      "text/plain": [
       "             RND     ADMIN       MKT    PROFIT\n",
       "RND     1.000000  0.241955  0.724248  0.972900\n",
       "ADMIN   0.241955  1.000000 -0.032154  0.200717\n",
       "MKT     0.724248 -0.032154  1.000000  0.747766\n",
       "PROFIT  0.972900  0.200717  0.747766  1.000000"
      ]
     },
     "execution_count": 9,
     "metadata": {},
     "output_type": "execute_result"
    }
   ],
   "source": [
    "data.corr()"
   ]
  },
  {
   "cell_type": "code",
   "execution_count": 10,
   "id": "189a6da0",
   "metadata": {},
   "outputs": [
    {
     "data": {
      "text/plain": [
       "<AxesSubplot:>"
      ]
     },
     "execution_count": 10,
     "metadata": {},
     "output_type": "execute_result"
    },
    {
     "data": {
      "image/png": "[encoded data removed]",
      "text/plain": [
       "<Figure size 432x288 with 2 Axes>"
      ]
     },
     "metadata": {
      "needs_background": "light"
     },
     "output_type": "display_data"
    }
   ],
   "source": [
    "import seaborn as sb\n",
    "sb.heatmap(data.corr(), annot=True)"
   ]
  },
  {
   "cell_type": "markdown",
   "id": "d1adcc0e",
   "metadata": {},
   "source": [
    "Check Correlation with Profit"
   ]
  },
  {
   "cell_type": "code",
   "execution_count": 11,
   "id": "a6405cf1",
   "metadata": {},
   "outputs": [
    {
     "data": {
      "text/html": [
       "<div>\n",
       "<style scoped>\n",
       "    .dataframe tbody tr th:only-of-type {\n",
       "        vertical-align: middle;\n",
       "    }\n",
       "\n",
       "    .dataframe tbody tr th {\n",
       "        vertical-align: top;\n",
       "    }\n",
       "\n",
       "    .dataframe thead th {\n",
       "        text-align: right;\n",
       "    }\n",
       "</style>\n",
       "<table border=\"1\" class=\"dataframe\">\n",
       "  <thead>\n",
       "    <tr style=\"text-align: right;\">\n",
       "      <th></th>\n",
       "      <th>PROFIT</th>\n",
       "    </tr>\n",
       "  </thead>\n",
       "  <tbody>\n",
       "    <tr>\n",
       "      <th>RND</th>\n",
       "      <td>0.972900</td>\n",
       "    </tr>\n",
       "    <tr>\n",
       "      <th>ADMIN</th>\n",
       "      <td>0.200717</td>\n",
       "    </tr>\n",
       "    <tr>\n",
       "      <th>MKT</th>\n",
       "      <td>0.747766</td>\n",
       "    </tr>\n",
       "    <tr>\n",
       "      <th>PROFIT</th>\n",
       "      <td>1.000000</td>\n",
       "    </tr>\n",
       "  </tbody>\n",
       "</table>\n",
       "</div>"
      ],
      "text/plain": [
       "          PROFIT\n",
       "RND     0.972900\n",
       "ADMIN   0.200717\n",
       "MKT     0.747766\n",
       "PROFIT  1.000000"
      ]
     },
     "execution_count": 11,
     "metadata": {},
     "output_type": "execute_result"
    }
   ],
   "source": [
    "data.corr()[[\"PROFIT\"]]"
   ]
  },
  {
   "cell_type": "markdown",
   "id": "cd01df13",
   "metadata": {},
   "source": [
    "Since Correlation is high of RND ,compared to other features we select RND to predict PROFIT"
   ]
  },
  {
   "cell_type": "markdown",
   "id": "f33e4263",
   "metadata": {},
   "source": [
    "Define X and Y"
   ]
  },
  {
   "cell_type": "markdown",
   "id": "55258339",
   "metadata": {},
   "source": [
    "Here Y is Our Outcome variable or Column or Feature or Output Value to be Predicted\n",
    "And X is our Predictor or Feature used for Making Prediction."
   ]
  },
  {
   "cell_type": "code",
   "execution_count": 12,
   "id": "06084a93",
   "metadata": {},
   "outputs": [],
   "source": [
    "X = data[[\"RND\"]]\n",
    "Y = data[[\"PROFIT\"]]"
   ]
  },
  {
   "cell_type": "code",
   "execution_count": 13,
   "id": "78c1e73d",
   "metadata": {},
   "outputs": [
    {
     "data": {
      "text/plain": [
       "(50, 1)"
      ]
     },
     "execution_count": 13,
     "metadata": {},
     "output_type": "execute_result"
    }
   ],
   "source": [
    "X.shape"
   ]
  },
  {
   "cell_type": "code",
   "execution_count": 14,
   "id": "95395161",
   "metadata": {},
   "outputs": [
    {
     "data": {
      "text/plain": [
       "(50, 1)"
      ]
     },
     "execution_count": 14,
     "metadata": {},
     "output_type": "execute_result"
    }
   ],
   "source": [
    "Y.shape"
   ]
  },
  {
   "cell_type": "markdown",
   "id": "c8982065",
   "metadata": {},
   "source": [
    "Divide Data in training and testing set"
   ]
  },
  {
   "cell_type": "code",
   "execution_count": 15,
   "id": "f9745a7e",
   "metadata": {},
   "outputs": [],
   "source": [
    "from sklearn.model_selection import train_test_split\n",
    "xtrain,xtest,ytrain,ytest=train_test_split(X,Y,test_size=0.2,random_state=21)"
   ]
  },
  {
   "cell_type": "code",
   "execution_count": 16,
   "id": "08b6c25c",
   "metadata": {},
   "outputs": [
    {
     "name": "stdout",
     "output_type": "stream",
     "text": [
      "(40, 1)\n",
      "(40, 1)\n",
      "(10, 1)\n",
      "(10, 1)\n"
     ]
    }
   ],
   "source": [
    "print(xtrain.shape)\n",
    "print(ytrain.shape)\n",
    "print(xtest.shape)\n",
    "print(ytest.shape)"
   ]
  },
  {
   "cell_type": "markdown",
   "id": "02ed669d",
   "metadata": {},
   "source": [
    "Create a ML model"
   ]
  },
  {
   "cell_type": "code",
   "execution_count": 17,
   "id": "ac33de20",
   "metadata": {},
   "outputs": [],
   "source": [
    "from sklearn.linear_model import LinearRegression\n",
    "lm = LinearRegression()"
   ]
  },
  {
   "cell_type": "markdown",
   "id": "f4f95779",
   "metadata": {},
   "source": [
    "Train the model"
   ]
  },
  {
   "cell_type": "code",
   "execution_count": 18,
   "id": "49496155",
   "metadata": {},
   "outputs": [],
   "source": [
    "model = lm.fit(xtrain,ytrain)"
   ]
  },
  {
   "cell_type": "markdown",
   "id": "2aaa4f08",
   "metadata": {},
   "source": [
    "Fetch values of training results"
   ]
  },
  {
   "cell_type": "code",
   "execution_count": 19,
   "id": "7530808f",
   "metadata": {},
   "outputs": [
    {
     "data": {
      "text/plain": [
       "array([49320.11362401])"
      ]
     },
     "execution_count": 19,
     "metadata": {},
     "output_type": "execute_result"
    }
   ],
   "source": [
    "model.intercept_"
   ]
  },
  {
   "cell_type": "code",
   "execution_count": 20,
   "id": "423707eb",
   "metadata": {},
   "outputs": [
    {
     "data": {
      "text/plain": [
       "array([[0.856323]])"
      ]
     },
     "execution_count": 20,
     "metadata": {},
     "output_type": "execute_result"
    }
   ],
   "source": [
    "model.coef_"
   ]
  },
  {
   "cell_type": "markdown",
   "id": "e32dc1b7",
   "metadata": {},
   "source": [
    "Equation for SLR is yhat = b0+b1*x\n",
    "\n",
    "yhat is Predicted value\n",
    "bo is yintercept(model.intercept_)\n",
    "b1 is Slope of the Line(model.coef_)"
   ]
  },
  {
   "cell_type": "markdown",
   "id": "c841ae1b",
   "metadata": {},
   "source": [
    "Use retrieved value for making a prediction"
   ]
  },
  {
   "cell_type": "code",
   "execution_count": 21,
   "id": "7b5e4d71",
   "metadata": {},
   "outputs": [
    {
     "name": "stdout",
     "output_type": "stream",
     "text": [
      "Enter any value for RND: 20000\n",
      "Predicted PROFIT:  66520.11\n"
     ]
    }
   ],
   "source": [
    "RNDamount = int(input(\"Enter any value for RND: \"))\n",
    "PredictedProfit = 49320.11 + 0.86 * RNDamount\n",
    "print(\"Predicted PROFIT: \",PredictedProfit)"
   ]
  },
  {
   "cell_type": "markdown",
   "id": "7c43bec8",
   "metadata": {},
   "source": [
    "Calculate Error(COST|LOSS) on Test Data\n",
    "Approach 1"
   ]
  },
  {
   "cell_type": "code",
   "execution_count": 22,
   "id": "ec6f0af1",
   "metadata": {},
   "outputs": [],
   "source": [
    "xtest[\"b0\"] = 49320.11\n",
    "xtest[\"b1\"] = 0.86\n",
    "xtest[\"Actual_PROFIT\"]=ytest.PROFIT\n",
    "xtest[\"Pred_PROFIT\"]=xtest.b0 + xtest.b1*xtest.RND\n",
    "xtest[\"Error\"]=xtest.Actual_PROFIT - xtest.Pred_PROFIT\n",
    "xtest['Abs']=xtest.Error.abs()\n",
    "xtest[\"Squared\"]=xtest.Error*xtest.Error"
   ]
  },
  {
   "cell_type": "markdown",
   "id": "610b859e",
   "metadata": {},
   "source": [
    "Mean Absolute Error"
   ]
  },
  {
   "cell_type": "code",
   "execution_count": 23,
   "id": "6eae6b1d",
   "metadata": {},
   "outputs": [
    {
     "data": {
      "text/plain": [
       "6589.73062"
      ]
     },
     "execution_count": 23,
     "metadata": {},
     "output_type": "execute_result"
    }
   ],
   "source": [
    "xtest.Abs.mean()"
   ]
  },
  {
   "cell_type": "markdown",
   "id": "9e1fac85",
   "metadata": {},
   "source": [
    "Mean Squared Error"
   ]
  },
  {
   "cell_type": "code",
   "execution_count": 24,
   "id": "a667ff6d",
   "metadata": {},
   "outputs": [
    {
     "data": {
      "text/plain": [
       "68427247.43506503"
      ]
     },
     "execution_count": 24,
     "metadata": {},
     "output_type": "execute_result"
    }
   ],
   "source": [
    "xtest.Squared.mean()"
   ]
  },
  {
   "cell_type": "markdown",
   "id": "8fa57768",
   "metadata": {},
   "source": [
    "Approach 2"
   ]
  },
  {
   "cell_type": "code",
   "execution_count": 25,
   "id": "a39e2d75",
   "metadata": {},
   "outputs": [],
   "source": [
    "pred = model.predict(xtest[[\"RND\"]])"
   ]
  },
  {
   "cell_type": "code",
   "execution_count": 26,
   "id": "e23dfd8a",
   "metadata": {},
   "outputs": [
    {
     "data": {
      "text/plain": [
       "array([[160897.39959224],\n",
       "       [ 68311.42254079],\n",
       "       [ 62598.02690147],\n",
       "       [104693.99228   ],\n",
       "       [152030.2690916 ],\n",
       "       [180715.60825365],\n",
       "       [107149.77251449],\n",
       "       [101672.60213879],\n",
       "       [130377.21713164],\n",
       "       [ 49320.11362401]])"
      ]
     },
     "execution_count": 26,
     "metadata": {},
     "output_type": "execute_result"
    }
   ],
   "source": [
    "pred"
   ]
  },
  {
   "cell_type": "code",
   "execution_count": 27,
   "id": "e82ac441",
   "metadata": {},
   "outputs": [
    {
     "data": {
      "text/plain": [
       "6543.008416944328"
      ]
     },
     "execution_count": 27,
     "metadata": {},
     "output_type": "execute_result"
    }
   ],
   "source": [
    "from sklearn.metrics import mean_absolute_error,mean_squared_error\n",
    "mean_absolute_error(ytest,pred)"
   ]
  },
  {
   "cell_type": "code",
   "execution_count": 28,
   "id": "f266f2aa",
   "metadata": {},
   "outputs": [
    {
     "data": {
      "text/plain": [
       "66984231.502244994"
      ]
     },
     "execution_count": 28,
     "metadata": {},
     "output_type": "execute_result"
    }
   ],
   "source": [
    "mean_squared_error(ytest,pred)"
   ]
  },
  {
   "cell_type": "markdown",
   "id": "eb8297af",
   "metadata": {},
   "source": [
    "Data Visualization-Approach 1"
   ]
  },
  {
   "cell_type": "code",
   "execution_count": 29,
   "id": "3f5189fd",
   "metadata": {},
   "outputs": [],
   "source": [
    "X = data[[\"RND\"]].values\n",
    "Y = data[[\"PROFIT\"]].values"
   ]
  },
  {
   "cell_type": "code",
   "execution_count": 30,
   "id": "b1d1f3af",
   "metadata": {},
   "outputs": [
    {
     "data": {
      "text/plain": [
       "[<matplotlib.lines.Line2D at 0x2656aed9a30>]"
      ]
     },
     "execution_count": 30,
     "metadata": {},
     "output_type": "execute_result"
    },
    {
     "data": {
      "image/png": "[encoded data removed]",
      "text/plain": [
       "<Figure size 432x288 with 1 Axes>"
      ]
     },
     "metadata": {
      "needs_background": "light"
     },
     "output_type": "display_data"
    }
   ],
   "source": [
    "import matplotlib.pyplot as plt\n",
    "plt.scatter(data.RND,data.PROFIT,c=\"orange\")\n",
    "plt.xlabel(\"RND\")\n",
    "plt.ylabel(\"PROFIT\")\n",
    "plt.title(\"RND vs PROFIT regression\")\n",
    "plt.plot(X,49320.11+0.86*X)"
   ]
  },
  {
   "cell_type": "markdown",
   "id": "41536815",
   "metadata": {},
   "source": [
    "Approach 2\n"
   ]
  },
  {
   "cell_type": "code",
   "execution_count": 31,
   "id": "2acd8826",
   "metadata": {},
   "outputs": [
    {
     "data": {
      "text/plain": [
       "<AxesSubplot:>"
      ]
     },
     "execution_count": 31,
     "metadata": {},
     "output_type": "execute_result"
    },
    {
     "data": {
      "image/png": "[encoded data removed]",
      "text/plain": [
       "<Figure size 432x288 with 1 Axes>"
      ]
     },
     "metadata": {
      "needs_background": "light"
     },
     "output_type": "display_data"
    }
   ],
   "source": [
    "import seaborn as sb\n",
    "sb.regplot(X,Y)"
   ]
  },
  {
   "cell_type": "markdown",
   "id": "836f18ea",
   "metadata": {},
   "source": [
    "Story Telling"
   ]
  },
  {
   "cell_type": "code",
   "execution_count": 32,
   "id": "af09134a",
   "metadata": {},
   "outputs": [],
   "source": [
    "data = data[[\"RND\",\"PROFIT\"]].copy()"
   ]
  },
  {
   "cell_type": "code",
   "execution_count": 33,
   "id": "8ef30987",
   "metadata": {},
   "outputs": [
    {
     "data": {
      "text/html": [
       "<div>\n",
       "<style scoped>\n",
       "    .dataframe tbody tr th:only-of-type {\n",
       "        vertical-align: middle;\n",
       "    }\n",
       "\n",
       "    .dataframe tbody tr th {\n",
       "        vertical-align: top;\n",
       "    }\n",
       "\n",
       "    .dataframe thead th {\n",
       "        text-align: right;\n",
       "    }\n",
       "</style>\n",
       "<table border=\"1\" class=\"dataframe\">\n",
       "  <thead>\n",
       "    <tr style=\"text-align: right;\">\n",
       "      <th></th>\n",
       "      <th>RND</th>\n",
       "      <th>PROFIT</th>\n",
       "    </tr>\n",
       "  </thead>\n",
       "  <tbody>\n",
       "    <tr>\n",
       "      <th>0</th>\n",
       "      <td>165349.20</td>\n",
       "      <td>192261.83</td>\n",
       "    </tr>\n",
       "    <tr>\n",
       "      <th>1</th>\n",
       "      <td>162597.70</td>\n",
       "      <td>191792.06</td>\n",
       "    </tr>\n",
       "    <tr>\n",
       "      <th>2</th>\n",
       "      <td>153441.51</td>\n",
       "      <td>191050.39</td>\n",
       "    </tr>\n",
       "    <tr>\n",
       "      <th>3</th>\n",
       "      <td>144372.41</td>\n",
       "      <td>182901.99</td>\n",
       "    </tr>\n",
       "    <tr>\n",
       "      <th>4</th>\n",
       "      <td>142107.34</td>\n",
       "      <td>166187.94</td>\n",
       "    </tr>\n",
       "    <tr>\n",
       "      <th>5</th>\n",
       "      <td>131876.90</td>\n",
       "      <td>156991.12</td>\n",
       "    </tr>\n",
       "    <tr>\n",
       "      <th>6</th>\n",
       "      <td>134615.46</td>\n",
       "      <td>156122.51</td>\n",
       "    </tr>\n",
       "    <tr>\n",
       "      <th>7</th>\n",
       "      <td>130298.13</td>\n",
       "      <td>155752.60</td>\n",
       "    </tr>\n",
       "    <tr>\n",
       "      <th>8</th>\n",
       "      <td>120542.52</td>\n",
       "      <td>152211.77</td>\n",
       "    </tr>\n",
       "    <tr>\n",
       "      <th>9</th>\n",
       "      <td>123334.88</td>\n",
       "      <td>149759.96</td>\n",
       "    </tr>\n",
       "    <tr>\n",
       "      <th>10</th>\n",
       "      <td>101913.08</td>\n",
       "      <td>146121.95</td>\n",
       "    </tr>\n",
       "    <tr>\n",
       "      <th>11</th>\n",
       "      <td>100671.96</td>\n",
       "      <td>144259.40</td>\n",
       "    </tr>\n",
       "    <tr>\n",
       "      <th>12</th>\n",
       "      <td>93863.75</td>\n",
       "      <td>141585.52</td>\n",
       "    </tr>\n",
       "    <tr>\n",
       "      <th>13</th>\n",
       "      <td>91992.39</td>\n",
       "      <td>134307.35</td>\n",
       "    </tr>\n",
       "    <tr>\n",
       "      <th>14</th>\n",
       "      <td>119943.24</td>\n",
       "      <td>132602.65</td>\n",
       "    </tr>\n",
       "    <tr>\n",
       "      <th>15</th>\n",
       "      <td>114523.61</td>\n",
       "      <td>129917.04</td>\n",
       "    </tr>\n",
       "    <tr>\n",
       "      <th>16</th>\n",
       "      <td>78013.11</td>\n",
       "      <td>126992.93</td>\n",
       "    </tr>\n",
       "    <tr>\n",
       "      <th>17</th>\n",
       "      <td>94657.16</td>\n",
       "      <td>125370.37</td>\n",
       "    </tr>\n",
       "    <tr>\n",
       "      <th>18</th>\n",
       "      <td>91749.16</td>\n",
       "      <td>124266.90</td>\n",
       "    </tr>\n",
       "    <tr>\n",
       "      <th>19</th>\n",
       "      <td>86419.70</td>\n",
       "      <td>122776.86</td>\n",
       "    </tr>\n",
       "    <tr>\n",
       "      <th>20</th>\n",
       "      <td>76253.86</td>\n",
       "      <td>118474.03</td>\n",
       "    </tr>\n",
       "    <tr>\n",
       "      <th>21</th>\n",
       "      <td>78389.47</td>\n",
       "      <td>111313.02</td>\n",
       "    </tr>\n",
       "    <tr>\n",
       "      <th>22</th>\n",
       "      <td>73994.56</td>\n",
       "      <td>110352.25</td>\n",
       "    </tr>\n",
       "    <tr>\n",
       "      <th>23</th>\n",
       "      <td>67532.53</td>\n",
       "      <td>108733.99</td>\n",
       "    </tr>\n",
       "    <tr>\n",
       "      <th>24</th>\n",
       "      <td>77044.01</td>\n",
       "      <td>108552.04</td>\n",
       "    </tr>\n",
       "    <tr>\n",
       "      <th>25</th>\n",
       "      <td>64664.71</td>\n",
       "      <td>107404.34</td>\n",
       "    </tr>\n",
       "    <tr>\n",
       "      <th>26</th>\n",
       "      <td>75328.87</td>\n",
       "      <td>105733.54</td>\n",
       "    </tr>\n",
       "    <tr>\n",
       "      <th>27</th>\n",
       "      <td>72107.60</td>\n",
       "      <td>105008.31</td>\n",
       "    </tr>\n",
       "    <tr>\n",
       "      <th>28</th>\n",
       "      <td>66051.52</td>\n",
       "      <td>103282.38</td>\n",
       "    </tr>\n",
       "    <tr>\n",
       "      <th>29</th>\n",
       "      <td>65605.48</td>\n",
       "      <td>101004.64</td>\n",
       "    </tr>\n",
       "    <tr>\n",
       "      <th>30</th>\n",
       "      <td>61994.48</td>\n",
       "      <td>99937.59</td>\n",
       "    </tr>\n",
       "    <tr>\n",
       "      <th>31</th>\n",
       "      <td>61136.38</td>\n",
       "      <td>97483.56</td>\n",
       "    </tr>\n",
       "    <tr>\n",
       "      <th>32</th>\n",
       "      <td>63408.86</td>\n",
       "      <td>97427.84</td>\n",
       "    </tr>\n",
       "    <tr>\n",
       "      <th>33</th>\n",
       "      <td>55493.95</td>\n",
       "      <td>96778.92</td>\n",
       "    </tr>\n",
       "    <tr>\n",
       "      <th>34</th>\n",
       "      <td>46426.07</td>\n",
       "      <td>96712.80</td>\n",
       "    </tr>\n",
       "    <tr>\n",
       "      <th>35</th>\n",
       "      <td>46014.02</td>\n",
       "      <td>96479.51</td>\n",
       "    </tr>\n",
       "    <tr>\n",
       "      <th>36</th>\n",
       "      <td>28663.76</td>\n",
       "      <td>90708.19</td>\n",
       "    </tr>\n",
       "    <tr>\n",
       "      <th>37</th>\n",
       "      <td>44069.95</td>\n",
       "      <td>89949.14</td>\n",
       "    </tr>\n",
       "    <tr>\n",
       "      <th>38</th>\n",
       "      <td>20229.59</td>\n",
       "      <td>81229.06</td>\n",
       "    </tr>\n",
       "    <tr>\n",
       "      <th>39</th>\n",
       "      <td>38558.51</td>\n",
       "      <td>81005.76</td>\n",
       "    </tr>\n",
       "    <tr>\n",
       "      <th>40</th>\n",
       "      <td>28754.33</td>\n",
       "      <td>78239.91</td>\n",
       "    </tr>\n",
       "    <tr>\n",
       "      <th>41</th>\n",
       "      <td>27892.92</td>\n",
       "      <td>77798.83</td>\n",
       "    </tr>\n",
       "    <tr>\n",
       "      <th>42</th>\n",
       "      <td>23640.93</td>\n",
       "      <td>71498.49</td>\n",
       "    </tr>\n",
       "    <tr>\n",
       "      <th>43</th>\n",
       "      <td>15505.73</td>\n",
       "      <td>69758.98</td>\n",
       "    </tr>\n",
       "    <tr>\n",
       "      <th>44</th>\n",
       "      <td>22177.74</td>\n",
       "      <td>65200.33</td>\n",
       "    </tr>\n",
       "    <tr>\n",
       "      <th>45</th>\n",
       "      <td>1000.23</td>\n",
       "      <td>64926.08</td>\n",
       "    </tr>\n",
       "    <tr>\n",
       "      <th>46</th>\n",
       "      <td>1315.46</td>\n",
       "      <td>49490.75</td>\n",
       "    </tr>\n",
       "    <tr>\n",
       "      <th>47</th>\n",
       "      <td>0.00</td>\n",
       "      <td>42559.73</td>\n",
       "    </tr>\n",
       "    <tr>\n",
       "      <th>48</th>\n",
       "      <td>542.05</td>\n",
       "      <td>35673.41</td>\n",
       "    </tr>\n",
       "    <tr>\n",
       "      <th>49</th>\n",
       "      <td>0.00</td>\n",
       "      <td>14681.40</td>\n",
       "    </tr>\n",
       "  </tbody>\n",
       "</table>\n",
       "</div>"
      ],
      "text/plain": [
       "          RND     PROFIT\n",
       "0   165349.20  192261.83\n",
       "1   162597.70  191792.06\n",
       "2   153441.51  191050.39\n",
       "3   144372.41  182901.99\n",
       "4   142107.34  166187.94\n",
       "5   131876.90  156991.12\n",
       "6   134615.46  156122.51\n",
       "7   130298.13  155752.60\n",
       "8   120542.52  152211.77\n",
       "9   123334.88  149759.96\n",
       "10  101913.08  146121.95\n",
       "11  100671.96  144259.40\n",
       "12   93863.75  141585.52\n",
       "13   91992.39  134307.35\n",
       "14  119943.24  132602.65\n",
       "15  114523.61  129917.04\n",
       "16   78013.11  126992.93\n",
       "17   94657.16  125370.37\n",
       "18   91749.16  124266.90\n",
       "19   86419.70  122776.86\n",
       "20   76253.86  118474.03\n",
       "21   78389.47  111313.02\n",
       "22   73994.56  110352.25\n",
       "23   67532.53  108733.99\n",
       "24   77044.01  108552.04\n",
       "25   64664.71  107404.34\n",
       "26   75328.87  105733.54\n",
       "27   72107.60  105008.31\n",
       "28   66051.52  103282.38\n",
       "29   65605.48  101004.64\n",
       "30   61994.48   99937.59\n",
       "31   61136.38   97483.56\n",
       "32   63408.86   97427.84\n",
       "33   55493.95   96778.92\n",
       "34   46426.07   96712.80\n",
       "35   46014.02   96479.51\n",
       "36   28663.76   90708.19\n",
       "37   44069.95   89949.14\n",
       "38   20229.59   81229.06\n",
       "39   38558.51   81005.76\n",
       "40   28754.33   78239.91\n",
       "41   27892.92   77798.83\n",
       "42   23640.93   71498.49\n",
       "43   15505.73   69758.98\n",
       "44   22177.74   65200.33\n",
       "45    1000.23   64926.08\n",
       "46    1315.46   49490.75\n",
       "47       0.00   42559.73\n",
       "48     542.05   35673.41\n",
       "49       0.00   14681.40"
      ]
     },
     "execution_count": 33,
     "metadata": {},
     "output_type": "execute_result"
    }
   ],
   "source": [
    "data"
   ]
  },
  {
   "cell_type": "code",
   "execution_count": 34,
   "id": "8ac0ecbc",
   "metadata": {},
   "outputs": [],
   "source": [
    "data[\"PREDICTED_PROFIT\"] = model.predict(X)"
   ]
  },
  {
   "cell_type": "code",
   "execution_count": 35,
   "id": "55d800bb",
   "metadata": {},
   "outputs": [
    {
     "data": {
      "text/html": [
       "<div>\n",
       "<style scoped>\n",
       "    .dataframe tbody tr th:only-of-type {\n",
       "        vertical-align: middle;\n",
       "    }\n",
       "\n",
       "    .dataframe tbody tr th {\n",
       "        vertical-align: top;\n",
       "    }\n",
       "\n",
       "    .dataframe thead th {\n",
       "        text-align: right;\n",
       "    }\n",
       "</style>\n",
       "<table border=\"1\" class=\"dataframe\">\n",
       "  <thead>\n",
       "    <tr style=\"text-align: right;\">\n",
       "      <th></th>\n",
       "      <th>RND</th>\n",
       "      <th>PROFIT</th>\n",
       "      <th>PREDICTED_PROFIT</th>\n",
       "    </tr>\n",
       "  </thead>\n",
       "  <tbody>\n",
       "    <tr>\n",
       "      <th>0</th>\n",
       "      <td>165349.20</td>\n",
       "      <td>192261.83</td>\n",
       "      <td>190912.437113</td>\n",
       "    </tr>\n",
       "    <tr>\n",
       "      <th>1</th>\n",
       "      <td>162597.70</td>\n",
       "      <td>191792.06</td>\n",
       "      <td>188556.264371</td>\n",
       "    </tr>\n",
       "    <tr>\n",
       "      <th>2</th>\n",
       "      <td>153441.51</td>\n",
       "      <td>191050.39</td>\n",
       "      <td>180715.608254</td>\n",
       "    </tr>\n",
       "    <tr>\n",
       "      <th>3</th>\n",
       "      <td>144372.41</td>\n",
       "      <td>182901.99</td>\n",
       "      <td>172949.529307</td>\n",
       "    </tr>\n",
       "    <tr>\n",
       "      <th>4</th>\n",
       "      <td>142107.34</td>\n",
       "      <td>166187.94</td>\n",
       "      <td>171009.897763</td>\n",
       "    </tr>\n",
       "    <tr>\n",
       "      <th>5</th>\n",
       "      <td>131876.90</td>\n",
       "      <td>156991.12</td>\n",
       "      <td>162249.336660</td>\n",
       "    </tr>\n",
       "    <tr>\n",
       "      <th>6</th>\n",
       "      <td>134615.46</td>\n",
       "      <td>156122.51</td>\n",
       "      <td>164594.428583</td>\n",
       "    </tr>\n",
       "    <tr>\n",
       "      <th>7</th>\n",
       "      <td>130298.13</td>\n",
       "      <td>155752.60</td>\n",
       "      <td>160897.399592</td>\n",
       "    </tr>\n",
       "    <tr>\n",
       "      <th>8</th>\n",
       "      <td>120542.52</td>\n",
       "      <td>152211.77</td>\n",
       "      <td>152543.446341</td>\n",
       "    </tr>\n",
       "    <tr>\n",
       "      <th>9</th>\n",
       "      <td>123334.88</td>\n",
       "      <td>149759.96</td>\n",
       "      <td>154934.608442</td>\n",
       "    </tr>\n",
       "    <tr>\n",
       "      <th>10</th>\n",
       "      <td>101913.08</td>\n",
       "      <td>146121.95</td>\n",
       "      <td>136590.628336</td>\n",
       "    </tr>\n",
       "    <tr>\n",
       "      <th>11</th>\n",
       "      <td>100671.96</td>\n",
       "      <td>144259.40</td>\n",
       "      <td>135527.828730</td>\n",
       "    </tr>\n",
       "    <tr>\n",
       "      <th>12</th>\n",
       "      <td>93863.75</td>\n",
       "      <td>141585.52</td>\n",
       "      <td>129697.801898</td>\n",
       "    </tr>\n",
       "    <tr>\n",
       "      <th>13</th>\n",
       "      <td>91992.39</td>\n",
       "      <td>134307.35</td>\n",
       "      <td>128095.313283</td>\n",
       "    </tr>\n",
       "    <tr>\n",
       "      <th>14</th>\n",
       "      <td>119943.24</td>\n",
       "      <td>132602.65</td>\n",
       "      <td>152030.269092</td>\n",
       "    </tr>\n",
       "    <tr>\n",
       "      <th>15</th>\n",
       "      <td>114523.61</td>\n",
       "      <td>129917.04</td>\n",
       "      <td>147389.315255</td>\n",
       "    </tr>\n",
       "    <tr>\n",
       "      <th>16</th>\n",
       "      <td>78013.11</td>\n",
       "      <td>126992.93</td>\n",
       "      <td>116124.534253</td>\n",
       "    </tr>\n",
       "    <tr>\n",
       "      <th>17</th>\n",
       "      <td>94657.16</td>\n",
       "      <td>125370.37</td>\n",
       "      <td>130377.217132</td>\n",
       "    </tr>\n",
       "    <tr>\n",
       "      <th>18</th>\n",
       "      <td>91749.16</td>\n",
       "      <td>124266.90</td>\n",
       "      <td>127887.029839</td>\n",
       "    </tr>\n",
       "    <tr>\n",
       "      <th>19</th>\n",
       "      <td>86419.70</td>\n",
       "      <td>122776.86</td>\n",
       "      <td>123323.290647</td>\n",
       "    </tr>\n",
       "    <tr>\n",
       "      <th>20</th>\n",
       "      <td>76253.86</td>\n",
       "      <td>118474.03</td>\n",
       "      <td>114618.048010</td>\n",
       "    </tr>\n",
       "    <tr>\n",
       "      <th>21</th>\n",
       "      <td>78389.47</td>\n",
       "      <td>111313.02</td>\n",
       "      <td>116446.819979</td>\n",
       "    </tr>\n",
       "    <tr>\n",
       "      <th>22</th>\n",
       "      <td>73994.56</td>\n",
       "      <td>110352.25</td>\n",
       "      <td>112683.357450</td>\n",
       "    </tr>\n",
       "    <tr>\n",
       "      <th>23</th>\n",
       "      <td>67532.53</td>\n",
       "      <td>108733.99</td>\n",
       "      <td>107149.772514</td>\n",
       "    </tr>\n",
       "    <tr>\n",
       "      <th>24</th>\n",
       "      <td>77044.01</td>\n",
       "      <td>108552.04</td>\n",
       "      <td>115294.671631</td>\n",
       "    </tr>\n",
       "    <tr>\n",
       "      <th>25</th>\n",
       "      <td>64664.71</td>\n",
       "      <td>107404.34</td>\n",
       "      <td>104693.992280</td>\n",
       "    </tr>\n",
       "    <tr>\n",
       "      <th>26</th>\n",
       "      <td>75328.87</td>\n",
       "      <td>105733.54</td>\n",
       "      <td>113825.957796</td>\n",
       "    </tr>\n",
       "    <tr>\n",
       "      <th>27</th>\n",
       "      <td>72107.60</td>\n",
       "      <td>105008.31</td>\n",
       "      <td>111067.510196</td>\n",
       "    </tr>\n",
       "    <tr>\n",
       "      <th>28</th>\n",
       "      <td>66051.52</td>\n",
       "      <td>103282.38</td>\n",
       "      <td>105881.549584</td>\n",
       "    </tr>\n",
       "    <tr>\n",
       "      <th>29</th>\n",
       "      <td>65605.48</td>\n",
       "      <td>101004.64</td>\n",
       "      <td>105499.595272</td>\n",
       "    </tr>\n",
       "    <tr>\n",
       "      <th>30</th>\n",
       "      <td>61994.48</td>\n",
       "      <td>99937.59</td>\n",
       "      <td>102407.412908</td>\n",
       "    </tr>\n",
       "    <tr>\n",
       "      <th>31</th>\n",
       "      <td>61136.38</td>\n",
       "      <td>97483.56</td>\n",
       "      <td>101672.602139</td>\n",
       "    </tr>\n",
       "    <tr>\n",
       "      <th>32</th>\n",
       "      <td>63408.86</td>\n",
       "      <td>97427.84</td>\n",
       "      <td>103618.579037</td>\n",
       "    </tr>\n",
       "    <tr>\n",
       "      <th>33</th>\n",
       "      <td>55493.95</td>\n",
       "      <td>96778.92</td>\n",
       "      <td>96840.859537</td>\n",
       "    </tr>\n",
       "    <tr>\n",
       "      <th>34</th>\n",
       "      <td>46426.07</td>\n",
       "      <td>96712.80</td>\n",
       "      <td>89075.825304</td>\n",
       "    </tr>\n",
       "    <tr>\n",
       "      <th>35</th>\n",
       "      <td>46014.02</td>\n",
       "      <td>96479.51</td>\n",
       "      <td>88722.977411</td>\n",
       "    </tr>\n",
       "    <tr>\n",
       "      <th>36</th>\n",
       "      <td>28663.76</td>\n",
       "      <td>90708.19</td>\n",
       "      <td>73865.550665</td>\n",
       "    </tr>\n",
       "    <tr>\n",
       "      <th>37</th>\n",
       "      <td>44069.95</td>\n",
       "      <td>89949.14</td>\n",
       "      <td>87058.225551</td>\n",
       "    </tr>\n",
       "    <tr>\n",
       "      <th>38</th>\n",
       "      <td>20229.59</td>\n",
       "      <td>81229.06</td>\n",
       "      <td>66643.176882</td>\n",
       "    </tr>\n",
       "    <tr>\n",
       "      <th>39</th>\n",
       "      <td>38558.51</td>\n",
       "      <td>81005.76</td>\n",
       "      <td>82338.652699</td>\n",
       "    </tr>\n",
       "    <tr>\n",
       "      <th>40</th>\n",
       "      <td>28754.33</td>\n",
       "      <td>78239.91</td>\n",
       "      <td>73943.107839</td>\n",
       "    </tr>\n",
       "    <tr>\n",
       "      <th>41</th>\n",
       "      <td>27892.92</td>\n",
       "      <td>77798.83</td>\n",
       "      <td>73205.462641</td>\n",
       "    </tr>\n",
       "    <tr>\n",
       "      <th>42</th>\n",
       "      <td>23640.93</td>\n",
       "      <td>71498.49</td>\n",
       "      <td>69564.385796</td>\n",
       "    </tr>\n",
       "    <tr>\n",
       "      <th>43</th>\n",
       "      <td>15505.73</td>\n",
       "      <td>69758.98</td>\n",
       "      <td>62598.026901</td>\n",
       "    </tr>\n",
       "    <tr>\n",
       "      <th>44</th>\n",
       "      <td>22177.74</td>\n",
       "      <td>65200.33</td>\n",
       "      <td>68311.422541</td>\n",
       "    </tr>\n",
       "    <tr>\n",
       "      <th>45</th>\n",
       "      <td>1000.23</td>\n",
       "      <td>64926.08</td>\n",
       "      <td>50176.633581</td>\n",
       "    </tr>\n",
       "    <tr>\n",
       "      <th>46</th>\n",
       "      <td>1315.46</td>\n",
       "      <td>49490.75</td>\n",
       "      <td>50446.572282</td>\n",
       "    </tr>\n",
       "    <tr>\n",
       "      <th>47</th>\n",
       "      <td>0.00</td>\n",
       "      <td>42559.73</td>\n",
       "      <td>49320.113624</td>\n",
       "    </tr>\n",
       "    <tr>\n",
       "      <th>48</th>\n",
       "      <td>542.05</td>\n",
       "      <td>35673.41</td>\n",
       "      <td>49784.283508</td>\n",
       "    </tr>\n",
       "    <tr>\n",
       "      <th>49</th>\n",
       "      <td>0.00</td>\n",
       "      <td>14681.40</td>\n",
       "      <td>49320.113624</td>\n",
       "    </tr>\n",
       "  </tbody>\n",
       "</table>\n",
       "</div>"
      ],
      "text/plain": [
       "          RND     PROFIT  PREDICTED_PROFIT\n",
       "0   165349.20  192261.83     190912.437113\n",
       "1   162597.70  191792.06     188556.264371\n",
       "2   153441.51  191050.39     180715.608254\n",
       "3   144372.41  182901.99     172949.529307\n",
       "4   142107.34  166187.94     171009.897763\n",
       "5   131876.90  156991.12     162249.336660\n",
       "6   134615.46  156122.51     164594.428583\n",
       "7   130298.13  155752.60     160897.399592\n",
       "8   120542.52  152211.77     152543.446341\n",
       "9   123334.88  149759.96     154934.608442\n",
       "10  101913.08  146121.95     136590.628336\n",
       "11  100671.96  144259.40     135527.828730\n",
       "12   93863.75  141585.52     129697.801898\n",
       "13   91992.39  134307.35     128095.313283\n",
       "14  119943.24  132602.65     152030.269092\n",
       "15  114523.61  129917.04     147389.315255\n",
       "16   78013.11  126992.93     116124.534253\n",
       "17   94657.16  125370.37     130377.217132\n",
       "18   91749.16  124266.90     127887.029839\n",
       "19   86419.70  122776.86     123323.290647\n",
       "20   76253.86  118474.03     114618.048010\n",
       "21   78389.47  111313.02     116446.819979\n",
       "22   73994.56  110352.25     112683.357450\n",
       "23   67532.53  108733.99     107149.772514\n",
       "24   77044.01  108552.04     115294.671631\n",
       "25   64664.71  107404.34     104693.992280\n",
       "26   75328.87  105733.54     113825.957796\n",
       "27   72107.60  105008.31     111067.510196\n",
       "28   66051.52  103282.38     105881.549584\n",
       "29   65605.48  101004.64     105499.595272\n",
       "30   61994.48   99937.59     102407.412908\n",
       "31   61136.38   97483.56     101672.602139\n",
       "32   63408.86   97427.84     103618.579037\n",
       "33   55493.95   96778.92      96840.859537\n",
       "34   46426.07   96712.80      89075.825304\n",
       "35   46014.02   96479.51      88722.977411\n",
       "36   28663.76   90708.19      73865.550665\n",
       "37   44069.95   89949.14      87058.225551\n",
       "38   20229.59   81229.06      66643.176882\n",
       "39   38558.51   81005.76      82338.652699\n",
       "40   28754.33   78239.91      73943.107839\n",
       "41   27892.92   77798.83      73205.462641\n",
       "42   23640.93   71498.49      69564.385796\n",
       "43   15505.73   69758.98      62598.026901\n",
       "44   22177.74   65200.33      68311.422541\n",
       "45    1000.23   64926.08      50176.633581\n",
       "46    1315.46   49490.75      50446.572282\n",
       "47       0.00   42559.73      49320.113624\n",
       "48     542.05   35673.41      49784.283508\n",
       "49       0.00   14681.40      49320.113624"
      ]
     },
     "execution_count": 35,
     "metadata": {},
     "output_type": "execute_result"
    }
   ],
   "source": [
    "data"
   ]
  },
  {
   "cell_type": "code",
   "execution_count": 36,
   "id": "be7a11b4",
   "metadata": {},
   "outputs": [
    {
     "data": {
      "image/png": "[encoded data removed]",
      "text/plain": [
       "<Figure size 432x288 with 1 Axes>"
      ]
     },
     "metadata": {
      "needs_background": "light"
     },
     "output_type": "display_data"
    }
   ],
   "source": [
    "import seaborn as sb\n",
    "import matplotlib.pyplot as plt\n",
    "plt.title(\"RND vs PROFIT using SLR\")\n",
    "label_model = f\"Regression Model:\\n Predicted_Profit = ({model.intercept_.round(2)})+({model.coef_[0].round(2)})*RND\"\n",
    "sb.scatterplot(data.RND,data.PROFIT,label=\"Actual\")\n",
    "sb.scatterplot(data.RND,data.PREDICTED_PROFIT,label=\"Predicted\")\n",
    "sb.lineplot(data.RND,data.PREDICTED_PROFIT,color=\"orange\",label=label_model)\n",
    "plt.savefig(\"Desktop/PredictedProfitusingSLR.jpg\")"
   ]
  },
  {
   "cell_type": "markdown",
   "id": "84ec5897",
   "metadata": {},
   "source": [
    "R2_Score(Metrics Used for SLR) Best Value is 1"
   ]
  },
  {
   "cell_type": "code",
   "execution_count": 37,
   "id": "57d52735",
   "metadata": {},
   "outputs": [
    {
     "data": {
      "text/plain": [
       "0.9622570223025136"
      ]
     },
     "execution_count": 37,
     "metadata": {},
     "output_type": "execute_result"
    }
   ],
   "source": [
    "from sklearn.metrics import r2_score\n",
    "r2_score(ytest,pred)"
   ]
  },
  {
   "cell_type": "code",
   "execution_count": null,
   "id": "c5de0e39",
   "metadata": {},
   "outputs": [],
   "source": []
  }
 ],
 "metadata": {
  "kernelspec": {
   "display_name": "Python 3 (ipykernel)",
   "language": "python",
   "name": "python3"
  },
  "language_info": {
   "codemirror_mode": {
    "name": "ipython",
    "version": 3
   },
   "file_extension": ".py",
   "mimetype": "text/x-python",
   "name": "python",
   "nbconvert_exporter": "python",
   "pygments_lexer": "ipython3",
   "version": "3.9.12"
  }
 },
 "nbformat": 4,
 "nbformat_minor": 5
}
